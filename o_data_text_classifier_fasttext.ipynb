{
 "cells": [
  {
   "cell_type": "code",
   "execution_count": 1,
   "metadata": {
    "collapsed": true
   },
   "outputs": [],
   "source": [
    "## code comes from https://blog.csdn.net/john_bh/article/details/79268850\n",
    "## 2019-10-31"
   ]
  },
  {
   "cell_type": "code",
   "execution_count": 1,
   "metadata": {},
   "outputs": [],
   "source": [
    "#coding= utf-8\n",
    "import pandas as pd\n",
    "import random\n",
    "import fasttext\n",
    "import jieba\n",
    "from sklearn.model_selection import train_test_split"
   ]
  },
  {
   "cell_type": "code",
   "execution_count": 5,
   "metadata": {
    "collapsed": true
   },
   "outputs": [],
   "source": [
    "# 建立label标签\n",
    "cate_dic = {'technology': 1, 'car': 2, 'entertainment': 3, 'military': 4, 'sports': 5}"
   ]
  },
  {
   "cell_type": "markdown",
   "metadata": {},
   "source": [
    "### 1.加载数据"
   ]
  },
  {
   "cell_type": "code",
   "execution_count": 6,
   "metadata": {
    "collapsed": true
   },
   "outputs": [],
   "source": [
    "def loadData():\n",
    "     #利用pandas把数据读进来\n",
    "    df_technology = pd.read_csv(\"./data/technology_news.csv\",encoding =\"utf-8\")\n",
    "    df_technology=df_technology.dropna()    #去空行处理\n",
    "\n",
    "    df_car = pd.read_csv(\"./data/car_news.csv\",encoding =\"utf-8\")\n",
    "    df_car=df_car.dropna()\n",
    "\n",
    "    df_entertainment = pd.read_csv(\"./data/entertainment_news.csv\",encoding =\"utf-8\")\n",
    "    df_entertainment=df_entertainment.dropna()\n",
    "\n",
    "    df_military = pd.read_csv(\"./data/military_news.csv\",encoding =\"utf-8\")\n",
    "    df_military=df_military.dropna()\n",
    "\n",
    "    df_sports = pd.read_csv(\"./data/sports_news.csv\",encoding =\"utf-8\")\n",
    "    df_sports=df_sports.dropna()\n",
    "\n",
    "    technology=df_technology.content.values.tolist()[1000:21000]\n",
    "    car=df_car.content.values.tolist()[1000:21000]\n",
    "    entertainment=df_entertainment.content.values.tolist()[:20000]\n",
    "    military=df_military.content.values.tolist()[:20000]\n",
    "    sports=df_sports.content.values.tolist()[:20000]\n",
    "\n",
    "    return technology,car,entertainment,military,sports"
   ]
  },
  {
   "cell_type": "markdown",
   "metadata": {},
   "source": [
    "### 2.建立Stopwords"
   ]
  },
  {
   "cell_type": "code",
   "execution_count": 8,
   "metadata": {
    "collapsed": true
   },
   "outputs": [],
   "source": [
    "def getStopWords(datapath):\n",
    "    stopwords=pd.read_csv(datapath,index_col=False,quoting=3,sep=\"\\t\",names=['stopword'], encoding='utf-8')\n",
    "    stopwords=stopwords[\"stopword\"].values\n",
    "    return stopwords"
   ]
  },
  {
   "cell_type": "markdown",
   "metadata": {},
   "source": [
    "### 3.文本的处理"
   ]
  },
  {
   "cell_type": "code",
   "execution_count": 21,
   "metadata": {
    "collapsed": true
   },
   "outputs": [],
   "source": [
    "def preprocess_text(content_line,sentences,category,stopwords):\n",
    "    for line in content_line:\n",
    "        try:\n",
    "            segs=jieba.lcut(line)    #利用结巴分词进行中文分词\n",
    "            segs=filter(lambda x:len(x)>1,segs)    #去掉长度小于1的词\n",
    "            segs=filter(lambda x:x not in stopwords,segs)    #去掉停用词\n",
    "            sentences.append(\"__label__\"+str(category)+\" , \"+\" \".join(segs))    #把当前的文本和对应的类别拼接起来，组合成fasttext的文本格式\n",
    "        except Exception as e:\n",
    "            print (line)\n",
    "            continue"
   ]
  },
  {
   "cell_type": "markdown",
   "metadata": {},
   "source": [
    "### 4.将处理好的写入到文件中"
   ]
  },
  {
   "cell_type": "code",
   "execution_count": 24,
   "metadata": {
    "collapsed": true
   },
   "outputs": [],
   "source": [
    "def writeData(sentences,fileName):\n",
    "    print(\"writing data to fasttext format...\")\n",
    "    writor= open(fileName,'w',encoding = 'utf-8')\n",
    "    for sentence in sentences:\n",
    "        writor.write(sentence+\"\\n\")\n",
    "    print(\"Writing Done!\")"
   ]
  },
  {
   "cell_type": "markdown",
   "metadata": {},
   "source": [
    "### 5.数据处理"
   ]
  },
  {
   "cell_type": "code",
   "execution_count": 26,
   "metadata": {
    "collapsed": true
   },
   "outputs": [],
   "source": [
    "def preprocessData(stopwords,saveDataFile):\n",
    "    technology,car,entertainment,military,sports=loadData()    \n",
    "\n",
    "    #去停用词，生成数据集\n",
    "    sentences=[]\n",
    "    preprocess_text(technology,sentences,cate_dic[\"technology\"],stopwords)\n",
    "    preprocess_text(car,sentences,cate_dic[\"car\"],stopwords)\n",
    "    preprocess_text(entertainment,sentences,cate_dic[\"entertainment\"],stopwords)\n",
    "    preprocess_text(military,sentences,cate_dic[\"military\"],stopwords)\n",
    "    preprocess_text(sports,sentences,cate_dic[\"sports\"],stopwords)\n",
    "\n",
    "    random.shuffle(sentences)    #做乱序处理，使得同类别的样本不至于扎堆\n",
    "    writeData(sentences,saveDataFile)"
   ]
  },
  {
   "cell_type": "markdown",
   "metadata": {},
   "source": [
    "### 6.主函数"
   ]
  },
  {
   "cell_type": "code",
   "execution_count": 27,
   "metadata": {},
   "outputs": [
    {
     "name": "stdout",
     "output_type": "stream",
     "text": [
      "writing data to fasttext format...\n",
      "Writing Done!\n"
     ]
    }
   ],
   "source": [
    "stopwordsFile    = r\"./data/stopwords_NLP.txt\"\n",
    "stopwords        = getStopWords(stopwordsFile)\n",
    "saveDataFile     = r'./data/SavedData_Fasttext.txt'\n",
    "preprocessData(stopwords,saveDataFile)"
   ]
  },
  {
   "cell_type": "markdown",
   "metadata": {},
   "source": [
    "### fasttext做监督学习的"
   ]
  },
  {
   "cell_type": "code",
   "execution_count": 38,
   "metadata": {},
   "outputs": [],
   "source": [
    "# https://fasttext.cc/blog/2019/06/25/blog-post.html#2-you-were-using-the-unofficial-fasttext-module%22\n",
    "classifier  = fasttext.train_supervised(saveDataFile, lr=0.1, dim=100, epoch=5,word_ngrams=2, loss='softmax')\n",
    "classifier.save_model(\"./data/fasttextmodel_file.bin\")"
   ]
  },
  {
   "cell_type": "code",
   "execution_count": 39,
   "metadata": {
    "scrolled": true
   },
   "outputs": [
    {
     "data": {
      "text/plain": [
       "['__label__5', '__label__1', '__label__3', '__label__4', '__label__2']"
      ]
     },
     "execution_count": 39,
     "metadata": {},
     "output_type": "execute_result"
    }
   ],
   "source": [
    "result           = model.test(saveDataFile)\n",
    "classifier.get_labels()"
   ]
  },
  {
   "cell_type": "code",
   "execution_count": 53,
   "metadata": {},
   "outputs": [
    {
     "data": {
      "text/plain": [
       "([['__label__2']], array([[1.00000203]]))"
      ]
     },
     "execution_count": 53,
     "metadata": {},
     "output_type": "execute_result"
    }
   ],
   "source": [
    "### 预测一个样本，返回对应的几个可能Label及对应的可能的概率，k表示几个label,threshold 控制门限大于这个门限的才显示\n",
    "text_string = ['北京 新能源 汽车 摇号 困难 交通 越来 拥挤 很多人 上班 都是 步行 骑车 共享 单车']\n",
    "classifier.predict(text = text_string,k = 2,threshold = 0.1) # 输入是字符串 string \n",
    "#cate_dic = {'technology': 1, 'car': 2, 'entertainment': 3, 'military': 4, 'sports': 5}\n",
    "# 上面希望显示两个结果，但是超过特定门限0.1的只有一个结果"
   ]
  },
  {
   "cell_type": "code",
   "execution_count": 46,
   "metadata": {},
   "outputs": [
    {
     "data": {
      "text/plain": [
       "{'__label__1': {'f1score': 0.6054021151944,\n",
       "  'precision': 0.43513070108279556,\n",
       "  'recall': 0.9946},\n",
       " '__label__2': {'f1score': 0.6211984779388271,\n",
       "  'precision': 0.4521735453315291,\n",
       "  'recall': 0.9920215233324056},\n",
       " '__label__3': {'f1score': 0.630971941354904,\n",
       "  'precision': 0.46122043606799706,\n",
       "  'recall': 0.99845},\n",
       " '__label__4': {'f1score': 0.7385487729246035,\n",
       "  'precision': 0.5884512212339404,\n",
       "  'recall': 0.9914367269267365},\n",
       " '__label__5': {'f1score': 0.7370246683518146,\n",
       "  'precision': 0.5840229246469195,\n",
       "  'recall': 0.99865}}"
      ]
     },
     "execution_count": 46,
     "metadata": {},
     "output_type": "execute_result"
    }
   ],
   "source": [
    "classifier.test_label(saveDataFile,k =2,threshold = 0)"
   ]
  },
  {
   "cell_type": "code",
   "execution_count": null,
   "metadata": {
    "collapsed": true
   },
   "outputs": [],
   "source": [
    "## 实际预测\n",
    "lable_to_cate={1:'technology',2:'car',3:'entertainment',4:'military',5:'sports'}\n",
    "texts=['中新网 日电 2018 预赛 亚洲区 强赛 中国队 韩国队 较量 比赛 上半场 分钟 主场 作战 中国队 率先 打破 场上 僵局 利用 角球 机会 大宝 前点 攻门 得手 中国队 领先']\n",
    "print(lables)\n",
    "print(lable_to_cate[int(lables[0][0])])\n",
    "\n",
    "#还可以得到类别+概率\n",
    "lables=classifier.predict_proba(texts)\n",
    "print(lables)\n",
    "\n",
    "#还可以得到前k个类别\n",
    "lables=classifier.predict(texts,k=3)\n",
    "print(lables)\n",
    "\n",
    "#还可以得到前k个类别+概率\n",
    "lables=classifier.predict_proba(texts,k=3)\n",
    "print(lables)"
   ]
  }
 ],
 "metadata": {
  "kernelspec": {
   "display_name": "Python 2",
   "language": "python",
   "name": "python2"
  },
  "language_info": {
   "codemirror_mode": {
    "name": "ipython",
    "version": 2
   },
   "file_extension": ".py",
   "mimetype": "text/x-python",
   "name": "python",
   "nbconvert_exporter": "python",
   "pygments_lexer": "ipython2",
   "version": "2.7.16"
  }
 },
 "nbformat": 4,
 "nbformat_minor": 1
}
