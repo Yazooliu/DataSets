{
 "cells": [
  {
   "cell_type": "code",
   "execution_count": 5,
   "metadata": {
    "collapsed": true
   },
   "outputs": [],
   "source": [
    "### 方法参考来之：https://www.cnblogs.com/always-fight/p/10159547.html\n",
    "## 2019-11-3"
   ]
  },
  {
   "cell_type": "code",
   "execution_count": 1,
   "metadata": {
    "collapsed": false
   },
   "outputs": [
    {
     "data": {
      "text/plain": [
       "'3.5.2 |Anaconda 4.2.0 (64-bit)| (default, Jul  5 2016, 11:41:13) [MSC v.1900 64 bit (AMD64)]'"
      ]
     },
     "execution_count": 1,
     "metadata": {},
     "output_type": "execute_result"
    }
   ],
   "source": [
    "import sys\n",
    "sys.version"
   ]
  },
  {
   "cell_type": "code",
   "execution_count": 8,
   "metadata": {
    "collapsed": false
   },
   "outputs": [],
   "source": [
    "import numpy as np\n",
    "import pandas as pd\n",
    "import re\n",
    "import jieba\n",
    "import warnings \n",
    "warnings.filterwarnings('ignore')\n",
    "from gensim.models import Word2Vec"
   ]
  },
  {
   "cell_type": "code",
   "execution_count": 40,
   "metadata": {
    "collapsed": true
   },
   "outputs": [],
   "source": [
    "df_technology = pd.read_csv(\"./NLPData/technology_news.csv\",encoding =\"utf-8\")"
   ]
  },
  {
   "cell_type": "code",
   "execution_count": 41,
   "metadata": {
    "collapsed": false
   },
   "outputs": [
    {
     "data": {
      "text/html": [
       "<div>\n",
       "<table border=\"1\" class=\"dataframe\">\n",
       "  <thead>\n",
       "    <tr style=\"text-align: right;\">\n",
       "      <th></th>\n",
       "      <th>Unnamed: 0</th>\n",
       "      <th>content</th>\n",
       "    </tr>\n",
       "  </thead>\n",
       "  <tbody>\n",
       "    <tr>\n",
       "      <th>0</th>\n",
       "      <td>0</td>\n",
       "      <td>,中新网,1月7日电  恰逢CES 2017拉开大幕，却惊闻“AlphaGo升级版”的M...</td>\n",
       "    </tr>\n",
       "    <tr>\n",
       "      <th>1</th>\n",
       "      <td>1</td>\n",
       "      <td>徐立，商汤科技CEO在谈起本次参展时谈到：“作为一个成立刚刚两年的创业公司，这次参展，一...</td>\n",
       "    </tr>\n",
       "    <tr>\n",
       "      <th>2</th>\n",
       "      <td>2</td>\n",
       "      <td>正如最后挑战Master的古力在落败后发表的观点：“人类与人工智能共同探索围棋世界的大幕...</td>\n",
       "    </tr>\n",
       "    <tr>\n",
       "      <th>3</th>\n",
       "      <td>3</td>\n",
       "      <td>,　SenseFace人脸布控的“黑科技”</td>\n",
       "    </tr>\n",
       "    <tr>\n",
       "      <th>4</th>\n",
       "      <td>4</td>\n",
       "      <td>本届大展最大的看点，无疑是“被誉为2016全美科技第一神股”英伟达的首次CES主题演讲。...</td>\n",
       "    </tr>\n",
       "  </tbody>\n",
       "</table>\n",
       "</div>"
      ],
      "text/plain": [
       "   Unnamed: 0                                            content\n",
       "0           0  　　,中新网,1月7日电  恰逢CES 2017拉开大幕，却惊闻“AlphaGo升级版”的M...\n",
       "1           1  　　徐立，商汤科技CEO在谈起本次参展时谈到：“作为一个成立刚刚两年的创业公司，这次参展，一...\n",
       "2           2  　　正如最后挑战Master的古力在落败后发表的观点：“人类与人工智能共同探索围棋世界的大幕...\n",
       "3           3                             　,　SenseFace人脸布控的“黑科技”\n",
       "4           4  　　本届大展最大的看点，无疑是“被誉为2016全美科技第一神股”英伟达的首次CES主题演讲。..."
      ]
     },
     "execution_count": 41,
     "metadata": {},
     "output_type": "execute_result"
    }
   ],
   "source": [
    "df_technology.head()"
   ]
  },
  {
   "cell_type": "markdown",
   "metadata": {},
   "source": [
    "### 1.加载数据"
   ]
  },
  {
   "cell_type": "code",
   "execution_count": 4,
   "metadata": {
    "collapsed": false
   },
   "outputs": [],
   "source": [
    "import pandas as pd\n",
    "# df_technology\n",
    "df_technology  = pd.read_csv(\"./NLPData/technology_news.csv\", encoding = 'utf-8')\n",
    "df_technology  = df_technology.dropna() # 取消可能为空的行数\n",
    "# sprots\n",
    "df_sprots   = pd.read_csv(\"./NLPData/sports_news.csv\", encoding = 'utf-8')\n",
    "df_sprots   = df_sprots.dropna()\n",
    "\n",
    "#df_society\n",
    "df_society = pd.read_csv(\"./NLPData/society_news.csv\",encoding = 'utf-8')\n",
    "df_society = df_society.dropna()\n",
    "\n",
    "#military\n",
    "df_military   = pd.read_csv(\"./NLPData/military_news.csv\", encoding = 'utf-8')\n",
    "df_military   = df_military.dropna()\n",
    "\n",
    "df_internality = pd.read_csv(\"./NLPData/international_news.csv\",encoding = 'utf-8')\n",
    "df_international = df_internality.dropna()\n",
    "\n",
    "df_house = pd.read_csv(\"./NLPData/house_news.csv\",encoding = 'utf-8')\n",
    "df_house = df_house.dropna()\n",
    "\n",
    "df_home = pd.read_csv(\"./NLPData/home_news.csv\",encoding = 'utf-8')\n",
    "df_home = df_home.dropna()\n",
    "\n",
    "df_finance = pd.read_csv(\"./NLPData/finance_news.csv\",encoding = 'utf-8')\n",
    "df_finance = df_finance.dropna()\n",
    "\n",
    "# df_entertainment \n",
    "df_entertainment   = pd.read_csv(\"./NLPData/entertainment_news.csv\", encoding = 'utf-8')\n",
    "df_entertainment   = df_entertainment.dropna()\n",
    "\n",
    "# df_car\n",
    "df_car  = pd.read_csv(\"./NLPData/car_news.csv\", encoding = 'utf-8')\n",
    "df_car  = df_car.dropna()"
   ]
  },
  {
   "cell_type": "code",
   "execution_count": 7,
   "metadata": {
    "collapsed": false
   },
   "outputs": [
    {
     "name": "stdout",
     "output_type": "stream",
     "text": [
      "　　神州专车高考生免费送考公益活动已持续三年，今年将覆盖30余城市，预计服务数千名考生。神州专车自2015年初在全国60大城市上线，以“专业司机、专业车辆”模式，为用户提供安全、舒适、标准化的出行服务。根据罗兰贝格报告，神州专车占据40%的专车市场份额，消费者满意度和安全评分均位居行业首位。\n"
     ]
    }
   ],
   "source": [
    "print (df_car.content.values.tolist()[11778])"
   ]
  },
  {
   "cell_type": "code",
   "execution_count": 5,
   "metadata": {
    "collapsed": true
   },
   "outputs": [],
   "source": [
    "### stopwords ###\n",
    "stopword_list = [k.strip() for k in open(\"./data/stopwords_NLP.txt\",encoding ='utf-8') if k.strip()!= '']"
   ]
  },
  {
   "cell_type": "markdown",
   "metadata": {},
   "source": [
    "### 1.1下面的代码用来采集全部的样本数据"
   ]
  },
  {
   "cell_type": "code",
   "execution_count": 13,
   "metadata": {
    "collapsed": false
   },
   "outputs": [],
   "source": [
    "# 读取文件里面的全部的csv文件 ###\n",
    "import os\n",
    "import csv\n",
    "import pandas as pd\n",
    "import sqtime\n",
    "\n",
    "cutWords = []\n",
    "example  = 0\n",
    "t1 = time.time()\n",
    "for root,dirs,files in os.walk(\"./NLPData\"):\n",
    "    for file in files:\n",
    "        if os.path.splitext(file)[1] == '.csv':\n",
    "            label    = os.path.splitext(file)[0] # 以文件的名字做为标签区分 #\n",
    "            doc      = pd.read_csv(os.path.join(root,file),encoding = 'utf-8')\n",
    "            contents = doc.content.dropna()\n",
    "            for each_line in contents:\n",
    "                if len(each_line)>20:\n",
    "                    example +=1\n",
    "                    cutWord = [word for word in jieba.lcut(each_line) if (word not in stopword_list and (word.strip()!= ''or word.lstrip()!=''))]\n",
    "                    cutWords.append([\" \".join(cutWord),label])\n",
    "                    if example%10000 == 0:\n",
    "                        t2 = time.time()\n",
    "                        print(\"处理完前%d个样本所花费的时间是%0.2f\"%(example,(t2 - t1)/60),'mins')"
   ]
  },
  {
   "cell_type": "markdown",
   "metadata": {},
   "source": [
    "### 1.2采集超过特定长度，数量相同的个分类样本"
   ]
  },
  {
   "cell_type": "code",
   "execution_count": 204,
   "metadata": {
    "collapsed": false
   },
   "outputs": [],
   "source": [
    "import time\n",
    "t1 = time.time()\n",
    "def read_files(file,cutWords,label,limit,maxs,i=0):\n",
    "    doc     = pd.read_csv(file,encoding = 'utf-8')\n",
    "    content = doc.content.dropna()\n",
    "    for each_line in content:\n",
    "        if len(each_line)>limit:\n",
    "            i = i+1\n",
    "            if i<=maxs:\n",
    "                cutWord = [word for word in jieba.lcut(each_line) if (word not in stopword_list and (word.strip()!= ''or word.lstrip()!=''))]\n",
    "                cutWords.append([\" \".join(cutWord),label])\n",
    "            if i%40000 == 0:\n",
    "                print(\"处理完前%d个样本所花费的时间是%0.2f\"%(i,(time.time()- t1)/60),'mins')"
   ]
  },
  {
   "cell_type": "code",
   "execution_count": 205,
   "metadata": {
    "collapsed": false
   },
   "outputs": [
    {
     "name": "stdout",
     "output_type": "stream",
     "text": [
      "处理完前40000个样本所花费的时间是1.65 mins\n",
      "处理完前80000个样本所花费的时间是1.65 mins\n",
      "处理完前40000个样本所花费的时间是2.20 mins\n",
      "处理完前80000个样本所花费的时间是2.20 mins\n",
      "处理完前40000个样本所花费的时间是3.11 mins\n",
      "处理完前40000个样本所花费的时间是4.13 mins\n",
      "处理完前80000个样本所花费的时间是4.13 mins\n",
      "处理完前120000个样本所花费的时间是4.14 mins\n",
      "处理完前160000个样本所花费的时间是4.14 mins\n"
     ]
    }
   ],
   "source": [
    "#calling \n",
    "import os\n",
    "limit = 50     #采集的样本长度大于这个值\n",
    "maxs  = 12000  # 每个总类的样本数量都是maxs \n",
    "cutWords = []\n",
    "for root,dirs,files in os.walk(\"./NLPData\"):\n",
    "    for file in files:\n",
    "        if os.path.splitext(file)[1] == '.csv':\n",
    "            label    = os.path.splitext(file)[0] # 以文件的名字做为标签区分 #\n",
    "            file     = os.path.join(root,file)\n",
    "            read_files(file,cutWords,label,limit,maxs)"
   ]
  },
  {
   "cell_type": "markdown",
   "metadata": {},
   "source": [
    "### 1.3 保持分词后的结果"
   ]
  },
  {
   "cell_type": "code",
   "execution_count": 208,
   "metadata": {
    "collapsed": false
   },
   "outputs": [],
   "source": [
    "### 先要乱序\n",
    "import random\n",
    "random.shuffle(cutWords)"
   ]
  },
  {
   "cell_type": "code",
   "execution_count": 209,
   "metadata": {
    "collapsed": false
   },
   "outputs": [],
   "source": [
    "### 将cutWords 写入local文件##\n",
    "with open(\"./NLPData/cutWords_lists1.txt\",'w',encoding = 'utf-8') as file:\n",
    "    for cutword in cutWords:\n",
    "        if (cutword[0]!=''and len(cutword[0])>limit):# 文本为空的情况，跳过\n",
    "            file.write(''.join(cutword[0])+'\\n')#cutword[0] ->content\n",
    "file.close()"
   ]
  },
  {
   "cell_type": "code",
   "execution_count": 210,
   "metadata": {
    "collapsed": false
   },
   "outputs": [],
   "source": [
    "### 获得文本的对应标签写入单独的文件#\n",
    "with open(\"./NLPData/cutWords_labels1.txt\",'w',encoding = 'utf-8') as file:\n",
    "    for cutword in cutWords:\n",
    "        if (cutword[0]!=''and len(cutword[0])>limit):  # 文本为空的情况，跳过\n",
    "            file.write(''.join(cutword[1])+'\\n')#cutword[1] ->label\n",
    "file.close()"
   ]
  },
  {
   "cell_type": "markdown",
   "metadata": {},
   "source": [
    "### 1.3.1 去掉文本中的空行"
   ]
  },
  {
   "cell_type": "code",
   "execution_count": 111,
   "metadata": {
    "collapsed": true
   },
   "outputs": [],
   "source": [
    "def del_blank(file1,file2):\n",
    "    file1 = open(file1, 'r', encoding='utf-8') # 要去掉空行的文件 \n",
    "    file2 = open(file2, 'w', encoding='utf-8') # 生成没有空行的文件\n",
    "    try:\n",
    "        for line in file1.readlines():\n",
    "            if line == '\\n':\n",
    "                line = line.strip(\"\\n\")\n",
    "            file2.write(line)\n",
    "    finally:\n",
    "        file1.close()\n",
    "        file2.close()\n",
    "\n",
    "#del_blank(\"./NLPData/cutWords_lists1.txt\",\"./NLPData/cutWords_lists2.txt\")"
   ]
  },
  {
   "cell_type": "markdown",
   "metadata": {},
   "source": [
    "### 1.4重新加载文本序列"
   ]
  },
  {
   "cell_type": "code",
   "execution_count": 211,
   "metadata": {
    "collapsed": true
   },
   "outputs": [],
   "source": [
    "cutWords_list = []\n",
    "with open(\"./NLPData/cutWords_lists1.txt\",'r',encoding = 'utf-8') as file:\n",
    "    cutWords_list = [k.split() for k in file]"
   ]
  },
  {
   "cell_type": "code",
   "execution_count": 212,
   "metadata": {
    "collapsed": true
   },
   "outputs": [],
   "source": [
    "with open(\"./NLPData/cutWords_labels1.txt\",'r',encoding = 'utf-8') as file:\n",
    "    cutWords_labels = [k.strip() for k in file]"
   ]
  },
  {
   "cell_type": "code",
   "execution_count": 213,
   "metadata": {
    "collapsed": false
   },
   "outputs": [
    {
     "data": {
      "text/plain": [
       "(110214, 110214, 'international_news')"
      ]
     },
     "execution_count": 213,
     "metadata": {},
     "output_type": "execute_result"
    }
   ],
   "source": [
    "len(cutWords_list),len(cutWords_labels),cutWords_labels[78000]"
   ]
  },
  {
   "cell_type": "markdown",
   "metadata": {},
   "source": [
    "### 2 Word2vec模型训练过程 - 16000次花费时间8++hours"
   ]
  },
  {
   "cell_type": "code",
   "execution_count": 23,
   "metadata": {
    "collapsed": false
   },
   "outputs": [
    {
     "name": "stdout",
     "output_type": "stream",
     "text": [
      "训练116176个样本,迭代20000次花费的时间是837.65 mins\n"
     ]
    }
   ],
   "source": [
    "import time\n",
    "import warnings \n",
    "warnings.filterwarnings('ignore')\n",
    "from gensim.models import Word2Vec\n",
    "\n",
    "### 155/5 =31 mins,每1000次迭代需要0.5hours ###\n",
    "iters = 1000*20\n",
    "start = time.time()\n",
    "word2vec_model  = Word2Vec(cutWords_list,size = 100,window = 4,iter = iters,min_count = 20)\n",
    "end = time.time()\n",
    "print(\"训练%d个样本,迭代%d次花费的时间是%0.2f\"%(len(cutWords_list),iters,(end - start)/60),'mins')\n",
    "## save model ###\n",
    "word2vec_model.save(\"./NLPData/word2vec_text_classifier_model_one.w2v\")"
   ]
  },
  {
   "cell_type": "code",
   "execution_count": 71,
   "metadata": {
    "collapsed": false
   },
   "outputs": [
    {
     "data": {
      "text/plain": [
       "13.960833333333333"
      ]
     },
     "execution_count": 71,
     "metadata": {},
     "output_type": "execute_result"
    }
   ],
   "source": [
    "837.65/60"
   ]
  },
  {
   "cell_type": "code",
   "execution_count": 67,
   "metadata": {
    "collapsed": false
   },
   "outputs": [
    {
     "data": {
      "text/plain": [
       "[('电动汽车', 0.6387987732887268),\n",
       " ('车', 0.6324900388717651),\n",
       " ('乘用车', 0.579134464263916),\n",
       " ('电动车', 0.5756604075431824)]"
      ]
     },
     "execution_count": 67,
     "metadata": {},
     "output_type": "execute_result"
    }
   ],
   "source": [
    "## 简单相似度计算 ### \n",
    "word2vec_model.wv.most_similar(\"汽车\",topn = 4)"
   ]
  },
  {
   "cell_type": "code",
   "execution_count": 13,
   "metadata": {
    "collapsed": false
   },
   "outputs": [
    {
     "data": {
      "text/plain": [
       "[('电动汽车', 0.6200621128082275),\n",
       " ('乘用车', 0.594478964805603),\n",
       " ('车', 0.5929100513458252),\n",
       " ('电动车', 0.558305025100708)]"
      ]
     },
     "execution_count": 13,
     "metadata": {},
     "output_type": "execute_result"
    }
   ],
   "source": [
    "## 简单相似度计算 ### \n",
    "word2vec_model.wv.most_similar(\"汽车\",topn = 4)"
   ]
  },
  {
   "cell_type": "code",
   "execution_count": 26,
   "metadata": {
    "collapsed": true
   },
   "outputs": [],
   "source": [
    "## save model ###\n",
    "word2vec_model.save(\"./NLPData/word2vec_text_classifier_model.w2v\")"
   ]
  },
  {
   "cell_type": "code",
   "execution_count": 25,
   "metadata": {
    "collapsed": false
   },
   "outputs": [
    {
     "data": {
      "text/plain": [
       "[('品牌', 0.6022969484329224),\n",
       " ('车型', 0.5839118957519531),\n",
       " ('品质', 0.5372676849365234),\n",
       " ('类产品', 0.5302367806434631),\n",
       " ('技术', 0.49774694442749023)]"
      ]
     },
     "execution_count": 25,
     "metadata": {},
     "output_type": "execute_result"
    }
   ],
   "source": [
    "from gensim.models import Word2Vec\n",
    "word2vec_models = Word2Vec.load(\"./NLPData/word2vec_text_classifier_model.w2v\")\n",
    "word2vec_models.wv.most_similar('产品',topn = 5)"
   ]
  },
  {
   "cell_type": "code",
   "execution_count": 69,
   "metadata": {
    "collapsed": false
   },
   "outputs": [
    {
     "data": {
      "text/plain": [
       "[('技术', 0.5855147838592529),\n",
       " ('高科技', 0.5632357597351074),\n",
       " ('信息技术', 0.4843491017818451),\n",
       " ('技术创新', 0.4782775640487671),\n",
       " ('能源技术', 0.45032164454460144)]"
      ]
     },
     "execution_count": 69,
     "metadata": {},
     "output_type": "execute_result"
    }
   ],
   "source": [
    "### 重新加载模型\n",
    "from gensim.models import Word2Vec\n",
    "word2vec_models = Word2Vec.load(\"./NLPData/word2vec_text_classifier_model.w2v\")\n",
    "word2vec_models.wv.most_similar('科技',topn = 5)"
   ]
  },
  {
   "cell_type": "markdown",
   "metadata": {},
   "source": [
    "### 3 特征工程 - 找到每个词对应的词向量"
   ]
  },
  {
   "cell_type": "code",
   "execution_count": 214,
   "metadata": {
    "collapsed": true
   },
   "outputs": [],
   "source": [
    "### 对于每一篇文章，获取文章的每个分词在word2vec模型中的向量；\n",
    "### 然后每一篇文章中词分词都可以在word2vec模型中的\n",
    "### 相关性向量的求和后的平均数，即此篇文章在word2vec模型中的相关向量\n",
    "def getVector(cutWords,word2vec_models):\n",
    "    count = 0\n",
    "    article_vector = np.zeros(word2vec_models.layer1_size) #word2vec_models.layer1_size = 100\n",
    "    for cutWord in cutWords:\n",
    "        if cutWord in word2vec_models:\n",
    "            article_vector+= word2vec_models[cutWord]\n",
    "            count+=1 \n",
    "    return article_vector/count # 返回的是文档中每个词对应词向量的平均值\n",
    "# 这里对每一行的样本中每个词的都找到词向量，然后求词向量的评价后作为这个样本的向量表示"
   ]
  },
  {
   "cell_type": "code",
   "execution_count": 222,
   "metadata": {
    "collapsed": false
   },
   "outputs": [
    {
     "name": "stdout",
     "output_type": "stream",
     "text": [
      "前5000篇文章所形成词向量花费的时间2.06 sec\n",
      "前10000篇文章所形成词向量花费的时间4.10 sec\n",
      "前15000篇文章所形成词向量花费的时间5.99 sec\n",
      "前20000篇文章所形成词向量花费的时间7.97 sec\n",
      "前25000篇文章所形成词向量花费的时间9.97 sec\n",
      "前30000篇文章所形成词向量花费的时间11.95 sec\n",
      "处理全部花费的时间:11.98 sec\n"
     ]
    }
   ],
   "source": [
    "# 取一部分数量的词来更换成词向量\n",
    "import time\n",
    "cutword_nums = 30000\n",
    "start        = time.time()\n",
    "vector_list  = []\n",
    "i = 0\n",
    "for cutWords in cutWords_list[:cutword_nums]:\n",
    "    vector_list.append(getVector(cutWords,word2vec_models))\n",
    "    i+=1\n",
    "    if i%5000 == 0:\n",
    "        print(\"前%d篇文章所形成词向量花费的时间%0.2f\" %(i,time.time() - start),'sec')\n",
    "X = np.array(vector_list)\n",
    "print(\"处理全部花费的时间:%0.2f\"%(time.time() - start),'sec')"
   ]
  },
  {
   "cell_type": "code",
   "execution_count": 188,
   "metadata": {
    "collapsed": false
   },
   "outputs": [
    {
     "data": {
      "text/plain": [
       "(array([ 1.19292158, -0.57860843, -4.50388913, -1.94825453,  4.28568632,\n",
       "        -1.94947689, -2.11498275, -0.65458484, -1.03108388, -1.50649066,\n",
       "         4.04506428,  0.77339096,  0.8547088 , -3.91165555, -1.24410445,\n",
       "        -0.63897305, -3.98068695, -0.67893644, -0.81975906, -2.02034573,\n",
       "         1.12887332,  0.25870354, -0.1052894 ,  0.79356545, -0.53009718,\n",
       "         1.39659073,  0.54044156,  0.78446635,  0.57141634, -0.12267597,\n",
       "         2.79009843, -0.38801467,  0.84132944, -0.63840234,  1.5016831 ,\n",
       "         1.70048504,  0.38150107, -0.58279982,  0.57110064,  1.02375426,\n",
       "        -1.05853761,  3.52604712,  0.00484087,  0.64442968,  0.03567633,\n",
       "        -2.00257081, -2.3669243 ,  0.71249322,  2.71880284, -0.50831457,\n",
       "        -0.91753288, -0.31325802,  3.2477649 , -1.57193178,  0.28838445,\n",
       "         1.97614472,  0.98916494,  1.62192097, -1.84254497, -0.05554489,\n",
       "         1.55885413,  1.93560955,  3.02309766, -0.89289875, -1.43344227,\n",
       "        -0.28608102, -0.2436323 ,  4.1629166 ,  0.28285369,  0.33411686,\n",
       "        -1.50368933,  4.57418472, -0.72029626,  1.87144143,  1.51392382,\n",
       "         1.45431791,  0.10391479, -1.75127491,  1.33682742, -0.09942727,\n",
       "         1.60552599,  1.07535843,  0.86304922,  0.25377121,  0.39010503,\n",
       "        -0.36809618,  3.09301307,  1.23084528,  1.27324874,  1.57184457,\n",
       "        -4.23643169,  1.19368309,  0.61158548,  0.54786723, -2.22572358,\n",
       "         1.60165124, -2.04158755,  2.57577935,  1.54101928, -0.54024442]), 100)"
      ]
     },
     "execution_count": 188,
     "metadata": {},
     "output_type": "execute_result"
    }
   ],
   "source": [
    "X[0],len(X[0])"
   ]
  },
  {
   "cell_type": "code",
   "execution_count": 167,
   "metadata": {
    "collapsed": true
   },
   "outputs": [],
   "source": [
    "### j将计算的特征矩阵save成文档来\n",
    "X.dump('./NLPData/articles_vector.txt') # dump方法传入一个字符串"
   ]
  },
  {
   "cell_type": "code",
   "execution_count": 30,
   "metadata": {
    "collapsed": true
   },
   "outputs": [],
   "source": [
    "import numpy as np\n",
    "X = np.load('./NLPData/articles_vector.txt',allow_pickle = True)"
   ]
  },
  {
   "cell_type": "markdown",
   "metadata": {},
   "source": [
    "### 4. 将label 转成数字标签"
   ]
  },
  {
   "cell_type": "code",
   "execution_count": 223,
   "metadata": {
    "collapsed": false
   },
   "outputs": [],
   "source": [
    "from sklearn.preprocessing import LabelEncoder\n",
    "import pandas as pd\n",
    "labelencoder = LabelEncoder()\n",
    "with open(\"./NLPData/cutWords_labels1.txt\",'r',encoding = 'utf-8') as file:\n",
    "    y_labels = [k.strip() for k in file]\n",
    "y =  labelencoder.fit_transform(y_labels[:cutword_nums]) # 所有的label y"
   ]
  },
  {
   "cell_type": "code",
   "execution_count": 224,
   "metadata": {
    "collapsed": false
   },
   "outputs": [
    {
     "data": {
      "text/plain": [
       "(30000, 30000, numpy.ndarray, numpy.ndarray)"
      ]
     },
     "execution_count": 224,
     "metadata": {},
     "output_type": "execute_result"
    }
   ],
   "source": [
    "len(X),len(y),type(X),type(y)"
   ]
  },
  {
   "cell_type": "markdown",
   "metadata": {},
   "source": [
    "### 5 数据样本分割 "
   ]
  },
  {
   "cell_type": "markdown",
   "metadata": {},
   "source": [
    "### 5.1样本分割前线判断X或者y里面是不是用空的值"
   ]
  },
  {
   "cell_type": "code",
   "execution_count": 225,
   "metadata": {
    "collapsed": false
   },
   "outputs": [
    {
     "data": {
      "text/plain": [
       "(False, False)"
      ]
     },
     "execution_count": 225,
     "metadata": {},
     "output_type": "execute_result"
    }
   ],
   "source": [
    "np.isnan(X).any(),np.isnan(y).any()"
   ]
  },
  {
   "cell_type": "code",
   "execution_count": 62,
   "metadata": {
    "collapsed": true
   },
   "outputs": [],
   "source": [
    "X[np.isnan(X) == True] = 0  # 将空的值强制为零"
   ]
  },
  {
   "cell_type": "code",
   "execution_count": 219,
   "metadata": {
    "collapsed": false
   },
   "outputs": [],
   "source": [
    "for i in range(len(X)):\n",
    "    if np.isnan(X[i]).any() == True:\n",
    "        print('i = ',i)"
   ]
  },
  {
   "cell_type": "markdown",
   "metadata": {},
   "source": [
    "### 5.2 样本数据分割"
   ]
  },
  {
   "cell_type": "code",
   "execution_count": 226,
   "metadata": {
    "collapsed": false
   },
   "outputs": [
    {
     "data": {
      "text/plain": [
       "LogisticRegression(C=1.0, class_weight=None, dual=False, fit_intercept=True,\n",
       "          intercept_scaling=1, max_iter=100, multi_class='multinomial',\n",
       "          n_jobs=1, penalty='l2', random_state=None, solver='lbfgs',\n",
       "          tol=0.0001, verbose=0, warm_start=False)"
      ]
     },
     "execution_count": 226,
     "metadata": {},
     "output_type": "execute_result"
    }
   ],
   "source": [
    "from sklearn.linear_model import LogisticRegression\n",
    "from sklearn.model_selection import train_test_split\n",
    "X_train,X_test,y_train,y_test = train_test_split(X,y,test_size = 0.2,random_state = 200)\n",
    "log_clf = LogisticRegression(multi_class = 'multinomial',solver = 'lbfgs') # ,\n",
    "log_clf.fit(X_train,y_train)"
   ]
  },
  {
   "cell_type": "code",
   "execution_count": 164,
   "metadata": {
    "collapsed": false
   },
   "outputs": [
    {
     "data": {
      "text/plain": [
       "LogisticRegression(C=1.0, class_weight=None, dual=False, fit_intercept=True,\n",
       "          intercept_scaling=1, max_iter=100, multi_class='ovr', n_jobs=1,\n",
       "          penalty='l2', random_state=None, solver='liblinear', tol=0.0001,\n",
       "          verbose=0, warm_start=False)"
      ]
     },
     "execution_count": 164,
     "metadata": {},
     "output_type": "execute_result"
    }
   ],
   "source": [
    "from sklearn.linear_model import LogisticRegression\n",
    "from sklearn.model_selection import train_test_split\n",
    "X_train,X_test,y_train,y_test = train_test_split(X,y,test_size = 0.2,random_state = 200)\n",
    "log_clf = LogisticRegression()\n",
    "log_clf.fit(X_train,y_train)"
   ]
  },
  {
   "cell_type": "code",
   "execution_count": 227,
   "metadata": {
    "collapsed": false
   },
   "outputs": [
    {
     "name": "stdout",
     "output_type": "stream",
     "text": [
      "逻辑回归模型准确率:74.37 %\n"
     ]
    }
   ],
   "source": [
    "print(\"逻辑回归模型准确率:%0.2f\"%(log_clf.score(X_test,y_test)*100),\"%\")"
   ]
  },
  {
   "cell_type": "code",
   "execution_count": 37,
   "metadata": {
    "collapsed": false
   },
   "outputs": [
    {
     "data": {
      "text/plain": [
       "['./NLPData/logistic.model']"
      ]
     },
     "execution_count": 37,
     "metadata": {},
     "output_type": "execute_result"
    }
   ],
   "source": [
    "### 通过joblib来保存model\n",
    "from sklearn.externals import joblib\n",
    "joblib.dump(log_clf,'./NLPData/logistic.model')"
   ]
  },
  {
   "cell_type": "code",
   "execution_count": 38,
   "metadata": {
    "collapsed": true
   },
   "outputs": [],
   "source": [
    "### 加载model\n",
    "from sklearn.externals import joblib\n",
    "logistic_model = joblib.load('./NLPData/logistic.model')"
   ]
  },
  {
   "cell_type": "markdown",
   "metadata": {},
   "source": [
    "### 5.3 相同的模型使用交叉验证查看准确率"
   ]
  },
  {
   "cell_type": "code",
   "execution_count": 39,
   "metadata": {
    "collapsed": false
   },
   "outputs": [
    {
     "name": "stderr",
     "output_type": "stream",
     "text": [
      "C:\\Anaconda3\\lib\\site-packages\\sklearn\\cross_validation.py:41: DeprecationWarning: This module was deprecated in version 0.18 in favor of the model_selection module into which all the refactored classes and functions are moved. Also note that the interface of the new CV iterators are different from that of this module. This module will be removed in 0.20.\n",
      "  \"This module will be removed in 0.20.\", DeprecationWarning)\n"
     ]
    },
    {
     "name": "stdout",
     "output_type": "stream",
     "text": [
      "[ 0.92233333  0.919       0.92633333  0.92183333  0.92316667  0.92733333\n",
      "  0.919       0.92066667  0.921       0.92216667]\n",
      "交叉验证的准确率是92.23 %\n"
     ]
    }
   ],
   "source": [
    "from sklearn.cross_validation import ShuffleSplit\n",
    "from sklearn.cross_validation import cross_val_score\n",
    "from sklearn.linear_model import LogisticRegression\n",
    "cv_split        = ShuffleSplit(X.shape[0],train_size = 0.7,test_size = 0.2) # X.shape[0] = 24000  #n_iter default = 10\n",
    "log_model       = LogisticRegression(multi_class='multinomial', solver='lbfgs')\n",
    "score_ndarray   = cross_val_score(log_model,X,y,cv = cv_split)\n",
    "print(score_ndarray)\n",
    "print(\"交叉验证的准确率是%0.2f\"%(score_ndarray.mean()*100),\"%\")"
   ]
  },
  {
   "cell_type": "markdown",
   "metadata": {
    "collapsed": true
   },
   "source": [
    "### ==============另一种方法:采用TF-IDF算法提取特征=================###"
   ]
  },
  {
   "cell_type": "markdown",
   "metadata": {},
   "source": [
    "### 1 重新加载样本和label"
   ]
  },
  {
   "cell_type": "code",
   "execution_count": 2,
   "metadata": {
    "collapsed": true
   },
   "outputs": [],
   "source": [
    "cutWords_list = []\n",
    "with open(\"./NLPData/cutWords_lists1.txt\",'r',encoding = 'utf-8') as file:\n",
    "    cutWords_list = [k.split() for k in file]"
   ]
  },
  {
   "cell_type": "code",
   "execution_count": 3,
   "metadata": {
    "collapsed": true
   },
   "outputs": [],
   "source": [
    "cutWords_labels = []\n",
    "with open(\"./NLPData/cutWords_labels1.txt\",'r',encoding = 'utf-8') as file:\n",
    "    cutWords_labels = [k.strip() for k in file]"
   ]
  },
  {
   "cell_type": "markdown",
   "metadata": {},
   "source": [
    "### 2 通过Tf-idf vectorize 来抽取特征"
   ]
  },
  {
   "cell_type": "code",
   "execution_count": 6,
   "metadata": {
    "collapsed": true
   },
   "outputs": [],
   "source": [
    "### stopwords ###\n",
    "stopword_list = [k.strip() for k in open(\"./data/stopwords_NLP.txt\",encoding ='utf-8') if k.strip()!= '']\n",
    "from sklearn.feature_extraction.text import TfidfVectorizer\n",
    "tfidf         = TfidfVectorizer(cutWords_list,stop_words =stopword_list,min_df = 50,max_df = 0.3)"
   ]
  },
  {
   "cell_type": "code",
   "execution_count": null,
   "metadata": {
    "collapsed": true
   },
   "outputs": [],
   "source": [
    "import time\n",
    "t1 = time.time()\n",
    "def read_files(file,cutWords,label,limit,maxs,i=0):\n",
    "    doc     = pd.read_csv(file,encoding = 'utf-8')\n",
    "    content = doc.content.dropna()\n",
    "    for each_line in content:\n",
    "        if len(each_line)>limit:\n",
    "            i = i+1\n",
    "            if i<=maxs:\n",
    "                \n",
    "            if i%20000 == 0:\n",
    "                print(\"处理完前%d个样本所花费的时间是%0.2f\"%(i,(time.time()- t1)/60),'mins')"
   ]
  },
  {
   "cell_type": "code",
   "execution_count": 4,
   "metadata": {
    "collapsed": false
   },
   "outputs": [
    {
     "name": "stdout",
     "output_type": "stream",
     "text": [
      "<class 'str'>\n",
      "　/　/本/报/济/南/1/月/2/日/电/ /(/记/者/潘/俊/强/)/日/前/，/备/受/关/注/的/济/南/“/专/车/案/”/一/审/宣/判/。/济/南/市/市/中/区/人/民/法/院/对/济/南/市/民/陈/超/诉/济/南/市/城/市/公/共/客/运/管/理/服/务/中/心/行/政/处/罚/一/案/作/出/一/审/宣/判/，/判/决/撤/销/济/南/市/客/管/中/心/对/“/专/车/”/司/机/陈/超/的/行/政/处/罚/。\n"
     ]
    }
   ],
   "source": [
    "doc         = pd.read_csv(\"./NLPData/car_news.csv\",encoding = 'utf-8')\n",
    "doc.columns = ['index','text']\n",
    "i = 0\n",
    "for one in doc['text']:\n",
    "    i+=1\n",
    "    if i ==1:\n",
    "        ones = \"/\".join(one)\n",
    "        print(type(ones))\n",
    "        print(ones)"
   ]
  },
  {
   "cell_type": "code",
   "execution_count": 55,
   "metadata": {
    "collapsed": false
   },
   "outputs": [
    {
     "data": {
      "text/plain": [
       "'\\u3000\\u3000济南市市中区人民法院审理认为，本案中，陈超在与乘客通过网络约车软件取得联系后，使用未取得运营证的车辆将乘客送至目的地，并按约定收取了车费。陈超的行为构成未经许可擅自从事出租汽车客运经营，违反了现行法律的规定。但虑及网约车这种共享经济新业态的特殊背景，该行为的社会危害性较小。'"
      ]
     },
     "execution_count": 55,
     "metadata": {},
     "output_type": "execute_result"
    }
   ],
   "source": [
    "doc['text'][2]"
   ]
  },
  {
   "cell_type": "code",
   "execution_count": 48,
   "metadata": {
    "collapsed": false
   },
   "outputs": [
    {
     "data": {
      "text/plain": [
       "pandas.core.frame.DataFrame"
      ]
     },
     "execution_count": 48,
     "metadata": {},
     "output_type": "execute_result"
    }
   ],
   "source": [
    "### 特征工程-抽取特征### \n",
    "type(doc)"
   ]
  },
  {
   "cell_type": "code",
   "execution_count": null,
   "metadata": {
    "collapsed": true
   },
   "outputs": [],
   "source": []
  },
  {
   "cell_type": "code",
   "execution_count": 115,
   "metadata": {
    "collapsed": false
   },
   "outputs": [],
   "source": [
    "### 读取特定path下文件夹里面的特定格式的文件，并写入特定文件内###\n",
    "import os \n",
    "import csv \n",
    "import pandas as pd\n",
    "def read_file(path,file,special_format):\n",
    "    writer = open(path,'w',encoding = 'utf-8')\n",
    "    for root,dirs,files in os.walk():\n",
    "        for file in files:\n",
    "            if os.path.splitext(file)[1] == special_format:\n",
    "                with open(os.path.join(root,file),'r',encoding = \"utf-8\") as f:\n",
    "                    for line in f.readlines():\n",
    "                        writer.write(line.strip('\\n')+'\\n')\n",
    "    writer.close()\n",
    "#Example:\n",
    "#file = \"./datas/mt/酒店评论数据备份v2/数据分割处理/postive/content/contentMergedPostive.txt\"\n",
    "#path = \"./datas/mt/酒店评论数据备份v2/数据分割处理/postive/content\"\n",
    "#special_format = \".txt\"\n",
    "#read_file(path,file,special_format)"
   ]
  }
 ],
 "metadata": {
  "anaconda-cloud": {},
  "kernelspec": {
   "display_name": "Python [conda root]",
   "language": "python",
   "name": "conda-root-py"
  },
  "language_info": {
   "codemirror_mode": {
    "name": "ipython",
    "version": 3
   },
   "file_extension": ".py",
   "mimetype": "text/x-python",
   "name": "python",
   "nbconvert_exporter": "python",
   "pygments_lexer": "ipython3",
   "version": "3.5.2"
  }
 },
 "nbformat": 4,
 "nbformat_minor": 1
}
