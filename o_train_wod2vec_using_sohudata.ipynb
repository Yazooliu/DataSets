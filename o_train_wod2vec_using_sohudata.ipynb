{
 "cells": [
  {
   "cell_type": "code",
   "execution_count": 1,
   "metadata": {
    "collapsed": true
   },
   "outputs": [],
   "source": [
    "from gensim.models import Word2Vec"
   ]
  },
  {
   "cell_type": "code",
   "execution_count": 21,
   "metadata": {
    "collapsed": false
   },
   "outputs": [],
   "source": [
    "#import os \n",
    "#files = os.listdir('C:/jupytenote_codes/datasets/')"
   ]
  },
  {
   "cell_type": "code",
   "execution_count": 39,
   "metadata": {
    "collapsed": false
   },
   "outputs": [],
   "source": [
    "#L = []\n",
    "#writor = open('C:/jupytenote_codes/datasets/cutWords_list.txt','w',encoding = 'utf-8')\n",
    "#for root,dirs,files in os.walk(\"./datasets\"):\n",
    "#    for file in files:\n",
    "#        if os.path.splitext(file)[1] == '.txt':\n",
    "#            L.append(os.path.join(root,file))\n",
    "#            with open(os.path.join(root,file),'r',encoding = 'utf-8') as f:\n",
    "#                for line in f.readlines():\n",
    "#                    writor.write(line.strip('\\n')+'\\n')\n",
    "#writor.close()"
   ]
  },
  {
   "cell_type": "code",
   "execution_count": 2,
   "metadata": {
    "collapsed": false,
    "scrolled": true
   },
   "outputs": [],
   "source": [
    "cutWord_list = []\n",
    "with open('C:/jupytenote_codes/cutWords_list/cutWords_list.txt','r',encoding= 'utf-8') as file:\n",
    "    cutWord_list = [k.split() for k in file]"
   ]
  },
  {
   "cell_type": "code",
   "execution_count": 3,
   "metadata": {
    "collapsed": false
   },
   "outputs": [
    {
     "name": "stdout",
     "output_type": "stream",
     "text": [
      "运行时间:2.84 mins\n"
     ]
    }
   ],
   "source": [
    "import time\n",
    "import warnings\n",
    "start = time.time()\n",
    "warnings.filterwarnings('ignore')\n",
    "word2vec_model = Word2Vec(cutWord_list,size = 100,window =2,iter =10,min_count =20)\n",
    "end  = time.time()\n",
    "print(\"运行时间:%0.2f\"%((end - start)/60),'mins')"
   ]
  },
  {
   "cell_type": "code",
   "execution_count": 7,
   "metadata": {
    "collapsed": false
   },
   "outputs": [
    {
     "data": {
      "text/plain": [
       "[('攻坚战', 0.6091368198394775),\n",
       " ('攻坚克难', 0.5849483013153076),\n",
       " ('不怕牺牲', 0.5816911458969116),\n",
       " ('奋战', 0.5813469886779785)]"
      ]
     },
     "execution_count": 7,
     "metadata": {},
     "output_type": "execute_result"
    }
   ],
   "source": [
    "word2vec_model.wv.most_similar('战斗',topn =4)"
   ]
  },
  {
   "cell_type": "code",
   "execution_count": 5,
   "metadata": {
    "collapsed": true
   },
   "outputs": [],
   "source": [
    "word2vec_model.save('C:/jupytenote_codes/cutWords_list/word2vec_model.w2v')"
   ]
  },
  {
   "cell_type": "code",
   "execution_count": 6,
   "metadata": {
    "collapsed": false
   },
   "outputs": [
    {
     "data": {
      "text/plain": [
       "[('攻坚战', 0.6091368198394775),\n",
       " ('攻坚克难', 0.5849483013153076),\n",
       " ('不怕牺牲', 0.5816911458969116),\n",
       " ('奋战', 0.5813469886779785)]"
      ]
     },
     "execution_count": 6,
     "metadata": {},
     "output_type": "execute_result"
    }
   ],
   "source": [
    "# 重新加载\n",
    "model = Word2Vec.load('C:/jupytenote_codes/cutWords_list/word2vec_model.w2v')\n",
    "model.wv.most_similar('战斗',topn = 4)"
   ]
  }
 ],
 "metadata": {
  "anaconda-cloud": {},
  "kernelspec": {
   "display_name": "Python [conda root]",
   "language": "python",
   "name": "conda-root-py"
  },
  "language_info": {
   "codemirror_mode": {
    "name": "ipython",
    "version": 3
   },
   "file_extension": ".py",
   "mimetype": "text/x-python",
   "name": "python",
   "nbconvert_exporter": "python",
   "pygments_lexer": "ipython3",
   "version": "3.5.2"
  }
 },
 "nbformat": 4,
 "nbformat_minor": 1
}
